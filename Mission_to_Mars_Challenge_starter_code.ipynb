{
 "cells": [
  {
   "cell_type": "code",
   "execution_count": 1,
   "metadata": {},
   "outputs": [],
   "source": [
    "# Import Splinter, BeautifulSoup, and Pandas\n",
    "from splinter import Browser\n",
    "from bs4 import BeautifulSoup as soup\n",
    "import pandas as pd\n",
    "from webdriver_manager.chrome import ChromeDriverManager"
   ]
  },
  {
   "cell_type": "code",
   "execution_count": 2,
   "metadata": {},
   "outputs": [
    {
     "output_type": "stream",
     "name": "stderr",
     "text": [
      "[WDM] - ====== WebDriver manager ======\n",
      "[WDM] - Current google-chrome version is 88.0.4324\n",
      "[WDM] - Get LATEST driver version for 88.0.4324\n",
      "\n",
      "\n",
      "[WDM] - Driver [/Users/patrickpo/.wdm/drivers/chromedriver/mac64/88.0.4324.96/chromedriver] found in cache\n"
     ]
    }
   ],
   "source": [
    "# Set the executable path and initialize the chrome browser in splinter\n",
    "executable_path = {'executable_path': ChromeDriverManager().install()}\n",
    "browser = Browser('chrome', **executable_path, headless=True)"
   ]
  },
  {
   "cell_type": "markdown",
   "metadata": {},
   "source": [
    "### Visit the NASA Mars News Site"
   ]
  },
  {
   "cell_type": "code",
   "execution_count": 3,
   "metadata": {},
   "outputs": [
    {
     "output_type": "execute_result",
     "data": {
      "text/plain": [
       "True"
      ]
     },
     "metadata": {},
     "execution_count": 3
    }
   ],
   "source": [
    "# Visit the mars nasa news site\n",
    "url = 'https://mars.nasa.gov/news/'\n",
    "browser.visit(url)\n",
    "\n",
    "# Optional delay for loading the page\n",
    "browser.is_element_present_by_css(\"ul.item_list li.slide\", wait_time=1)"
   ]
  },
  {
   "cell_type": "code",
   "execution_count": 4,
   "metadata": {},
   "outputs": [],
   "source": [
    "# Convert the browser html to a soup object and then quit the browser\n",
    "html = browser.html\n",
    "news_soup = soup(html, 'html.parser')\n",
    "\n",
    "slide_elem = news_soup.select_one('ul.item_list li.slide')"
   ]
  },
  {
   "cell_type": "code",
   "execution_count": 5,
   "metadata": {},
   "outputs": [
    {
     "output_type": "execute_result",
     "data": {
      "text/plain": [
       "<div class=\"content_title\"><a href=\"/news/8848/nasas-perseverance-pays-off-back-home/\" target=\"_self\">NASA's Perseverance Pays Off Back Home</a></div>"
      ]
     },
     "metadata": {},
     "execution_count": 5
    }
   ],
   "source": [
    "slide_elem.find(\"div\", class_='content_title')"
   ]
  },
  {
   "cell_type": "code",
   "execution_count": 6,
   "metadata": {},
   "outputs": [
    {
     "output_type": "execute_result",
     "data": {
      "text/plain": [
       "\"NASA's Perseverance Pays Off Back Home\""
      ]
     },
     "metadata": {},
     "execution_count": 6
    }
   ],
   "source": [
    "# Use the parent element to find the first a tag and save it as `news_title`\n",
    "news_title = slide_elem.find(\"div\", class_='content_title').get_text()\n",
    "news_title"
   ]
  },
  {
   "cell_type": "code",
   "execution_count": 7,
   "metadata": {},
   "outputs": [
    {
     "output_type": "execute_result",
     "data": {
      "text/plain": [
       "'Even as the Perseverance rover approaches Mars, technology on board is paying off on Earth.'"
      ]
     },
     "metadata": {},
     "execution_count": 7
    }
   ],
   "source": [
    "# Use the parent element to find the paragraph text\n",
    "news_p = slide_elem.find('div', class_=\"article_teaser_body\").get_text()\n",
    "news_p"
   ]
  },
  {
   "cell_type": "markdown",
   "metadata": {},
   "source": [
    "### JPL Space Images Featured Image"
   ]
  },
  {
   "cell_type": "code",
   "execution_count": 8,
   "metadata": {},
   "outputs": [
    {
     "output_type": "stream",
     "name": "stdout",
     "text": [
      "https://web.archive.org/web/20181114023740_if/https://www.jpl.nasa.gov/spaceimages/images/wallpaper/PIA13664-1920x1200.jpg\n"
     ]
    }
   ],
   "source": [
    "# Visit Archived JPL URL\n",
    "try:\n",
    "    PREFIX = \"https://web.archive.org/web/20181114023740\"\n",
    "    url = f'{PREFIX}/https://www.jpl.nasa.gov/spaceimages/?search=&category=Mars'\n",
    "    browser.visit(url)\n",
    "    article = browser.find_by_tag('article').first['style']\n",
    "    article_background = article.split(\"_/\")[1].replace('\");',\"\")\n",
    "    print (f'{PREFIX}_if/{article_background}')\n",
    "except:\n",
    "    print('https://www.nasa.gov/sites/default/files/styles/full_width_feature/public/thumbnails/image/pia22486-main.jpg')\n"
   ]
  },
  {
   "cell_type": "code",
   "execution_count": 9,
   "metadata": {},
   "outputs": [],
   "source": [
    "# Find and click the full image button\n",
    "#full_image_elem = browser.find_by_id('full_image')\n",
    "#full_image_elem.click()"
   ]
  },
  {
   "cell_type": "code",
   "execution_count": 10,
   "metadata": {},
   "outputs": [],
   "source": [
    "# Find the more info button and click that\n",
    "#browser.is_element_present_by_text('more info', wait_time=1)\n",
    "#more_info_elem = browser.links.find_by_partial_text('more info')\n",
    "#more_info_elem.click()"
   ]
  },
  {
   "cell_type": "code",
   "execution_count": 11,
   "metadata": {},
   "outputs": [],
   "source": [
    "# Parse the resulting html with soup\n",
    "#html = browser.html\n",
    "#img_soup = soup(html, 'html.parser')"
   ]
  },
  {
   "cell_type": "code",
   "execution_count": 12,
   "metadata": {},
   "outputs": [],
   "source": [
    "# find the relative image url\n",
    "#img_url_rel = img_soup.select_one('figure.lede a img').get(\"src\")\n",
    "#img_url_rel"
   ]
  },
  {
   "cell_type": "code",
   "execution_count": 13,
   "metadata": {},
   "outputs": [],
   "source": [
    "# Use the base url to create an absolute url\n",
    "#img_url = f'https://www.jpl.nasa.gov{img_url_rel}'\n",
    "#img_url"
   ]
  },
  {
   "cell_type": "markdown",
   "metadata": {},
   "source": [
    "### Mars Facts"
   ]
  },
  {
   "cell_type": "code",
   "execution_count": 14,
   "metadata": {},
   "outputs": [
    {
     "output_type": "execute_result",
     "data": {
      "text/plain": [
       "                                               Mars\n",
       "Description                                        \n",
       "Equatorial Diameter:                       6,792 km\n",
       "Polar Diameter:                            6,752 km\n",
       "Mass:                 6.39 × 10^23 kg (0.11 Earths)\n",
       "Moons:                          2 (Phobos & Deimos)\n",
       "Orbit Distance:            227,943,824 km (1.38 AU)\n",
       "Orbit Period:                  687 days (1.9 years)\n",
       "Surface Temperature:                   -87 to -5 °C\n",
       "First Record:                     2nd millennium BC\n",
       "Recorded By:                   Egyptian astronomers"
      ],
      "text/html": "<div>\n<style scoped>\n    .dataframe tbody tr th:only-of-type {\n        vertical-align: middle;\n    }\n\n    .dataframe tbody tr th {\n        vertical-align: top;\n    }\n\n    .dataframe thead th {\n        text-align: right;\n    }\n</style>\n<table border=\"1\" class=\"dataframe\">\n  <thead>\n    <tr style=\"text-align: right;\">\n      <th></th>\n      <th>Mars</th>\n    </tr>\n    <tr>\n      <th>Description</th>\n      <th></th>\n    </tr>\n  </thead>\n  <tbody>\n    <tr>\n      <th>Equatorial Diameter:</th>\n      <td>6,792 km</td>\n    </tr>\n    <tr>\n      <th>Polar Diameter:</th>\n      <td>6,752 km</td>\n    </tr>\n    <tr>\n      <th>Mass:</th>\n      <td>6.39 × 10^23 kg (0.11 Earths)</td>\n    </tr>\n    <tr>\n      <th>Moons:</th>\n      <td>2 (Phobos &amp; Deimos)</td>\n    </tr>\n    <tr>\n      <th>Orbit Distance:</th>\n      <td>227,943,824 km (1.38 AU)</td>\n    </tr>\n    <tr>\n      <th>Orbit Period:</th>\n      <td>687 days (1.9 years)</td>\n    </tr>\n    <tr>\n      <th>Surface Temperature:</th>\n      <td>-87 to -5 °C</td>\n    </tr>\n    <tr>\n      <th>First Record:</th>\n      <td>2nd millennium BC</td>\n    </tr>\n    <tr>\n      <th>Recorded By:</th>\n      <td>Egyptian astronomers</td>\n    </tr>\n  </tbody>\n</table>\n</div>"
     },
     "metadata": {},
     "execution_count": 14
    }
   ],
   "source": [
    "df = pd.read_html('http://space-facts.com/mars/')[0]\n",
    "df.columns=['Description', 'Mars']\n",
    "df.set_index('Description', inplace=True)\n",
    "df"
   ]
  },
  {
   "cell_type": "code",
   "execution_count": 15,
   "metadata": {},
   "outputs": [
    {
     "output_type": "execute_result",
     "data": {
      "text/plain": [
       "'<table border=\"1\" class=\"dataframe\">\\n  <thead>\\n    <tr style=\"text-align: right;\">\\n      <th></th>\\n      <th>Mars</th>\\n    </tr>\\n    <tr>\\n      <th>Description</th>\\n      <th></th>\\n    </tr>\\n  </thead>\\n  <tbody>\\n    <tr>\\n      <th>Equatorial Diameter:</th>\\n      <td>6,792 km</td>\\n    </tr>\\n    <tr>\\n      <th>Polar Diameter:</th>\\n      <td>6,752 km</td>\\n    </tr>\\n    <tr>\\n      <th>Mass:</th>\\n      <td>6.39 × 10^23 kg (0.11 Earths)</td>\\n    </tr>\\n    <tr>\\n      <th>Moons:</th>\\n      <td>2 (Phobos &amp; Deimos)</td>\\n    </tr>\\n    <tr>\\n      <th>Orbit Distance:</th>\\n      <td>227,943,824 km (1.38 AU)</td>\\n    </tr>\\n    <tr>\\n      <th>Orbit Period:</th>\\n      <td>687 days (1.9 years)</td>\\n    </tr>\\n    <tr>\\n      <th>Surface Temperature:</th>\\n      <td>-87 to -5 °C</td>\\n    </tr>\\n    <tr>\\n      <th>First Record:</th>\\n      <td>2nd millennium BC</td>\\n    </tr>\\n    <tr>\\n      <th>Recorded By:</th>\\n      <td>Egyptian astronomers</td>\\n    </tr>\\n  </tbody>\\n</table>'"
      ]
     },
     "metadata": {},
     "execution_count": 15
    }
   ],
   "source": [
    "df.to_html()"
   ]
  },
  {
   "cell_type": "markdown",
   "metadata": {},
   "source": [
    "### Mars Weather"
   ]
  },
  {
   "cell_type": "code",
   "execution_count": 16,
   "metadata": {},
   "outputs": [],
   "source": [
    "# Visit the weather website\n",
    "url = 'https://mars.nasa.gov/insight/weather/'\n",
    "browser.visit(url)"
   ]
  },
  {
   "cell_type": "code",
   "execution_count": 17,
   "metadata": {},
   "outputs": [],
   "source": [
    "# Parse the data\n",
    "html = browser.html\n",
    "weather_soup = soup(html, 'html.parser')"
   ]
  },
  {
   "cell_type": "code",
   "execution_count": 18,
   "metadata": {
    "tags": [
     "outputPrepend"
    ]
   },
   "outputs": [
    {
     "output_type": "stream",
     "name": "stdout",
     "text": [
      "\n   </td>\n   <td class=\"windspeed point\">\n    <span class=\"nodata\">\n     N/A\n    </span>\n   </td>\n   <td class=\"pressure max\">\n    741.1\n   </td>\n   <td class=\"pressure avg\">\n    718\n   </td>\n   <td class=\"pressure min\">\n    693.7\n   </td>\n  </tr>\n  <tr>\n   <th class=\"sol\" scope=\"row\">\n    Feb. 3, 2021\n   </th>\n   <th class=\"sol\" scope=\"row\">\n    779\n   </th>\n   <td class=\"temperature max\">\n    <span class=\"fahrenheit\">\n     <nobr>\n      <span class=\"nodata\">\n       N/A\n      </span>\n     </nobr>\n    </span>\n    <span class=\"celsius\" style=\"display: none;\">\n     <nobr>\n      <span class=\"nodata\">\n       N/A\n      </span>\n     </nobr>\n    </span>\n   </td>\n   <td class=\"temperature avg\">\n    <span class=\"fahrenheit\">\n     <nobr>\n      <span class=\"nodata\">\n       N/A\n      </span>\n     </nobr>\n    </span>\n    <span class=\"celsius\" style=\"display: none;\">\n     <nobr>\n      <span class=\"nodata\">\n       N/A\n      </span>\n     </nobr>\n    </span>\n   </td>\n   <td class=\"temperature min\">\n    <span class=\"fahrenheit\">\n     <nobr>\n      <span class=\"nodata\">\n       N/A\n      </span>\n     </nobr>\n    </span>\n    <span class=\"celsius\" style=\"display: none;\">\n     <nobr>\n      <span class=\"nodata\">\n       N/A\n      </span>\n     </nobr>\n    </span>\n   </td>\n   <td class=\"windspeed max\">\n    <span class=\"mph\">\n     <span class=\"nodata\">\n      N/A\n     </span>\n    </span>\n    <span class=\"mps\" style=\"display:none\">\n     <span class=\"nodata\">\n      N/A\n     </span>\n    </span>\n   </td>\n   <td class=\"windspeed avg\">\n    <span class=\"mph\">\n     <span class=\"nodata\">\n      N/A\n     </span>\n    </span>\n    <span class=\"mps\" style=\"display:none\">\n     <span class=\"nodata\">\n      N/A\n     </span>\n    </span>\n   </td>\n   <td class=\"windspeed min\">\n    <span class=\"mph\">\n     <span class=\"nodata\">\n      N/A\n     </span>\n    </span>\n    <span class=\"mps\" style=\"display:none\">\n     <span class=\"nodata\">\n      N/A\n     </span>\n    </span>\n   </td>\n   <td class=\"windspeed point\">\n    <span class=\"nodata\">\n     N/A\n    </span>\n   </td>\n   <td class=\"pressure max\">\n    741.2\n   </td>\n   <td class=\"pressure avg\">\n    721.7\n   </td>\n   <td class=\"pressure min\">\n    695.4\n   </td>\n  </tr>\n  <tr>\n   <th class=\"sol\" scope=\"row\">\n    Feb. 2, 2021\n   </th>\n   <th class=\"sol\" scope=\"row\">\n    778\n   </th>\n   <td class=\"temperature max\">\n    <span class=\"fahrenheit\">\n     <nobr>\n      <span class=\"nodata\">\n       N/A\n      </span>\n     </nobr>\n    </span>\n    <span class=\"celsius\" style=\"display: none;\">\n     <nobr>\n      <span class=\"nodata\">\n       N/A\n      </span>\n     </nobr>\n    </span>\n   </td>\n   <td class=\"temperature avg\">\n    <span class=\"fahrenheit\">\n     <nobr>\n      <span class=\"nodata\">\n       N/A\n      </span>\n     </nobr>\n    </span>\n    <span class=\"celsius\" style=\"display: none;\">\n     <nobr>\n      <span class=\"nodata\">\n       N/A\n      </span>\n     </nobr>\n    </span>\n   </td>\n   <td class=\"temperature min\">\n    <span class=\"fahrenheit\">\n     <nobr>\n      <span class=\"nodata\">\n       N/A\n      </span>\n     </nobr>\n    </span>\n    <span class=\"celsius\" style=\"display: none;\">\n     <nobr>\n      <span class=\"nodata\">\n       N/A\n      </span>\n     </nobr>\n    </span>\n   </td>\n   <td class=\"windspeed max\">\n    <span class=\"mph\">\n     <span class=\"nodata\">\n      N/A\n     </span>\n    </span>\n    <span class=\"mps\" style=\"display:none\">\n     <span class=\"nodata\">\n      N/A\n     </span>\n    </span>\n   </td>\n   <td class=\"windspeed avg\">\n    <span class=\"mph\">\n     <span class=\"nodata\">\n      N/A\n     </span>\n    </span>\n    <span class=\"mps\" style=\"display:none\">\n     <span class=\"nodata\">\n      N/A\n     </span>\n    </span>\n   </td>\n   <td class=\"windspeed min\">\n    <span class=\"mph\">\n     <span class=\"nodata\">\n      N/A\n     </span>\n    </span>\n    <span class=\"mps\" style=\"display:none\">\n     <span class=\"nodata\">\n      N/A\n     </span>\n    </span>\n   </td>\n   <td class=\"windspeed point\">\n    <span class=\"nodata\">\n     N/A\n    </span>\n   </td>\n   <td class=\"pressure max\">\n    739.5\n   </td>\n   <td class=\"pressure avg\">\n    718.4\n   </td>\n   <td class=\"pressure min\">\n    695.5\n   </td>\n  </tr>\n  <tr>\n   <th class=\"sol\" scope=\"row\">\n    Feb. 1, 2021\n   </th>\n   <th class=\"sol\" scope=\"row\">\n    777\n   </th>\n   <td class=\"temperature max\">\n    <span class=\"fahrenheit\">\n     <nobr>\n      <span class=\"nodata\">\n       N/A\n      </span>\n     </nobr>\n    </span>\n    <span class=\"celsius\" style=\"display: none;\">\n     <nobr>\n      <span class=\"nodata\">\n       N/A\n      </span>\n     </nobr>\n    </span>\n   </td>\n   <td class=\"temperature avg\">\n    <span class=\"fahrenheit\">\n     <nobr>\n      <span class=\"nodata\">\n       N/A\n      </span>\n     </nobr>\n    </span>\n    <span class=\"celsius\" style=\"display: none;\">\n     <nobr>\n      <span class=\"nodata\">\n       N/A\n      </span>\n     </nobr>\n    </span>\n   </td>\n   <td class=\"temperature min\">\n    <span class=\"fahrenheit\">\n     <nobr>\n      <span class=\"nodata\">\n       N/A\n      </span>\n     </nobr>\n    </span>\n    <span class=\"celsius\" style=\"display: none;\">\n     <nobr>\n      <span class=\"nodata\">\n       N/A\n      </span>\n     </nobr>\n    </span>\n   </td>\n   <td class=\"windspeed max\">\n    <span class=\"mph\">\n     <span class=\"nodata\">\n      N/A\n     </span>\n    </span>\n    <span class=\"mps\" style=\"display:none\">\n     <span class=\"nodata\">\n      N/A\n     </span>\n    </span>\n   </td>\n   <td class=\"windspeed avg\">\n    <span class=\"mph\">\n     <span class=\"nodata\">\n      N/A\n     </span>\n    </span>\n    <span class=\"mps\" style=\"display:none\">\n     <span class=\"nodata\">\n      N/A\n     </span>\n    </span>\n   </td>\n   <td class=\"windspeed min\">\n    <span class=\"mph\">\n     <span class=\"nodata\">\n      N/A\n     </span>\n    </span>\n    <span class=\"mps\" style=\"display:none\">\n     <span class=\"nodata\">\n      N/A\n     </span>\n    </span>\n   </td>\n   <td class=\"windspeed point\">\n    <span class=\"nodata\">\n     N/A\n    </span>\n   </td>\n   <td class=\"pressure max\">\n    738.2\n   </td>\n   <td class=\"pressure avg\">\n    718.3\n   </td>\n   <td class=\"pressure min\">\n    695.9\n   </td>\n  </tr>\n  <tr>\n   <th class=\"sol\" scope=\"row\">\n    Jan. 31, 2021\n   </th>\n   <th class=\"sol\" scope=\"row\">\n    776\n   </th>\n   <td class=\"temperature max\">\n    <span class=\"fahrenheit\">\n     <nobr>\n      <span class=\"nodata\">\n       N/A\n      </span>\n     </nobr>\n    </span>\n    <span class=\"celsius\" style=\"display: none;\">\n     <nobr>\n      <span class=\"nodata\">\n       N/A\n      </span>\n     </nobr>\n    </span>\n   </td>\n   <td class=\"temperature avg\">\n    <span class=\"fahrenheit\">\n     <nobr>\n      <span class=\"nodata\">\n       N/A\n      </span>\n     </nobr>\n    </span>\n    <span class=\"celsius\" style=\"display: none;\">\n     <nobr>\n      <span class=\"nodata\">\n       N/A\n      </span>\n     </nobr>\n    </span>\n   </td>\n   <td class=\"temperature min\">\n    <span class=\"fahrenheit\">\n     <nobr>\n      <span class=\"nodata\">\n       N/A\n      </span>\n     </nobr>\n    </span>\n    <span class=\"celsius\" style=\"display: none;\">\n     <nobr>\n      <span class=\"nodata\">\n       N/A\n      </span>\n     </nobr>\n    </span>\n   </td>\n   <td class=\"windspeed max\">\n    <span class=\"mph\">\n     <span class=\"nodata\">\n      N/A\n     </span>\n    </span>\n    <span class=\"mps\" style=\"display:none\">\n     <span class=\"nodata\">\n      N/A\n     </span>\n    </span>\n   </td>\n   <td class=\"windspeed avg\">\n    <span class=\"mph\">\n     <span class=\"nodata\">\n      N/A\n     </span>\n    </span>\n    <span class=\"mps\" style=\"display:none\">\n     <span class=\"nodata\">\n      N/A\n     </span>\n    </span>\n   </td>\n   <td class=\"windspeed min\">\n    <span class=\"mph\">\n     <span class=\"nodata\">\n      N/A\n     </span>\n    </span>\n    <span class=\"mps\" style=\"display:none\">\n     <span class=\"nodata\">\n      N/A\n     </span>\n    </span>\n   </td>\n   <td class=\"windspeed point\">\n    <span class=\"nodata\">\n     N/A\n    </span>\n   </td>\n   <td class=\"pressure max\">\n    737.6\n   </td>\n   <td class=\"pressure avg\">\n    720.1\n   </td>\n   <td class=\"pressure min\">\n    699\n   </td>\n  </tr>\n  <tr>\n   <th class=\"sol\" scope=\"row\">\n    Jan. 30, 2021\n   </th>\n   <th class=\"sol\" scope=\"row\">\n    775\n   </th>\n   <td class=\"temperature max\">\n    <span class=\"fahrenheit\">\n     <nobr>\n      <span class=\"nodata\">\n       N/A\n      </span>\n     </nobr>\n    </span>\n    <span class=\"celsius\" style=\"display: none;\">\n     <nobr>\n      <span class=\"nodata\">\n       N/A\n      </span>\n     </nobr>\n    </span>\n   </td>\n   <td class=\"temperature avg\">\n    <span class=\"fahrenheit\">\n     <nobr>\n      <span class=\"nodata\">\n       N/A\n      </span>\n     </nobr>\n    </span>\n    <span class=\"celsius\" style=\"display: none;\">\n     <nobr>\n      <span class=\"nodata\">\n       N/A\n      </span>\n     </nobr>\n    </span>\n   </td>\n   <td class=\"temperature min\">\n    <span class=\"fahrenheit\">\n     <nobr>\n      <span class=\"nodata\">\n       N/A\n      </span>\n     </nobr>\n    </span>\n    <span class=\"celsius\" style=\"display: none;\">\n     <nobr>\n      <span class=\"nodata\">\n       N/A\n      </span>\n     </nobr>\n    </span>\n   </td>\n   <td class=\"windspeed max\">\n    <span class=\"mph\">\n     <span class=\"nodata\">\n      N/A\n     </span>\n    </span>\n    <span class=\"mps\" style=\"display:none\">\n     <span class=\"nodata\">\n      N/A\n     </span>\n    </span>\n   </td>\n   <td class=\"windspeed avg\">\n    <span class=\"mph\">\n     <span class=\"nodata\">\n      N/A\n     </span>\n    </span>\n    <span class=\"mps\" style=\"display:none\">\n     <span class=\"nodata\">\n      N/A\n     </span>\n    </span>\n   </td>\n   <td class=\"windspeed min\">\n    <span class=\"mph\">\n     <span class=\"nodata\">\n      N/A\n     </span>\n    </span>\n    <span class=\"mps\" style=\"display:none\">\n     <span class=\"nodata\">\n      N/A\n     </span>\n    </span>\n   </td>\n   <td class=\"windspeed point\">\n    <span class=\"nodata\">\n     N/A\n    </span>\n   </td>\n   <td class=\"pressure max\">\n    738.5\n   </td>\n   <td class=\"pressure avg\">\n    717.7\n   </td>\n   <td class=\"pressure min\">\n    698\n   </td>\n  </tr>\n </tbody>\n</table>\n"
     ]
    }
   ],
   "source": [
    "# Scrape the Daily Weather Report table\n",
    "weather_table = weather_soup.find('table', class_='mb_table')\n",
    "print(weather_table.prettify())"
   ]
  },
  {
   "cell_type": "markdown",
   "metadata": {},
   "source": [
    "# D1: Scrape High-Resolution Mars’ Hemisphere Images and Titles"
   ]
  },
  {
   "cell_type": "markdown",
   "metadata": {},
   "source": [
    "### Hemispheres"
   ]
  },
  {
   "cell_type": "code",
   "execution_count": 19,
   "metadata": {},
   "outputs": [],
   "source": [
    "# 1. Use browser to visit the URL \n",
    "url = 'https://astrogeology.usgs.gov/search/results?q=hemisphere+enhanced&k1=target&v1=Mars'\n",
    "browser.visit(url)"
   ]
  },
  {
   "cell_type": "code",
   "execution_count": 20,
   "metadata": {},
   "outputs": [],
   "source": [
    "# 2. Create a list to hold the images and titles.\n",
    "hemisphere_image_urls = []\n",
    "\n",
    "# 3. Write code to retrieve the image urls and titles for each hemisphere.\n",
    "links = browser.find_by_css(\"a.product-item h3\")\n",
    "\n",
    "for i  in range(len(links)):\n",
    "    hemispheres = {}\n",
    "    browser.find_by_css(\"a.product-item h3\")[i].click()\n",
    "    sample_element = browser.find_link_by_text('Sample').first\n",
    "    hemispheres[\"img_url\"]=sample_element[\"href\"]\n",
    "    hemispheres[\"title\"]=browser.find_by_css(\"h2.title\").text\n",
    "    hemisphere_image_urls.append(hemispheres)\n",
    "    browser.back()"
   ]
  },
  {
   "cell_type": "code",
   "execution_count": 21,
   "metadata": {},
   "outputs": [
    {
     "output_type": "execute_result",
     "data": {
      "text/plain": [
       "[{'img_url': 'https://astropedia.astrogeology.usgs.gov/download/Mars/Viking/cerberus_enhanced.tif/full.jpg',\n",
       "  'title': 'Cerberus Hemisphere Enhanced'},\n",
       " {'img_url': 'https://astropedia.astrogeology.usgs.gov/download/Mars/Viking/schiaparelli_enhanced.tif/full.jpg',\n",
       "  'title': 'Schiaparelli Hemisphere Enhanced'},\n",
       " {'img_url': 'https://astropedia.astrogeology.usgs.gov/download/Mars/Viking/syrtis_major_enhanced.tif/full.jpg',\n",
       "  'title': 'Syrtis Major Hemisphere Enhanced'},\n",
       " {'img_url': 'https://astropedia.astrogeology.usgs.gov/download/Mars/Viking/valles_marineris_enhanced.tif/full.jpg',\n",
       "  'title': 'Valles Marineris Hemisphere Enhanced'}]"
      ]
     },
     "metadata": {},
     "execution_count": 21
    }
   ],
   "source": [
    "# 4. Print the list that holds the dictionary of each image url and title.\n",
    "hemisphere_image_urls"
   ]
  },
  {
   "cell_type": "code",
   "execution_count": 22,
   "metadata": {},
   "outputs": [],
   "source": [
    "# 5. Quit the browser\n",
    "browser.quit()"
   ]
  },
  {
   "cell_type": "code",
   "execution_count": null,
   "metadata": {},
   "outputs": [],
   "source": []
  }
 ],
 "metadata": {
  "kernelspec": {
   "display_name": "PythonData",
   "language": "python",
   "name": "pythondata"
  },
  "language_info": {
   "codemirror_mode": {
    "name": "ipython",
    "version": 3
   },
   "file_extension": ".py",
   "mimetype": "text/x-python",
   "name": "python",
   "nbconvert_exporter": "python",
   "pygments_lexer": "ipython3",
   "version": "3.7.9-final"
  },
  "nteract": {
   "version": "0.15.0"
  }
 },
 "nbformat": 4,
 "nbformat_minor": 2
}